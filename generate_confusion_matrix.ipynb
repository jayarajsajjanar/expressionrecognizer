{
 "cells": [
  {
   "cell_type": "markdown",
   "metadata": {},
   "source": [
    "This notebook loads the model from a h5 file and generates confusion matrix. "
   ]
  },
  {
   "cell_type": "code",
   "execution_count": 1,
   "metadata": {},
   "outputs": [
    {
     "name": "stderr",
     "output_type": "stream",
     "text": [
      "Using TensorFlow backend.\n"
     ]
    }
   ],
   "source": [
    "from keras.models import load_model\n",
    "import keras\n",
    "from keras.models import Sequential\n",
    "from keras.layers import Dense, Dropout, Flatten\n",
    "from keras.layers import Conv2D, MaxPooling2D, BatchNormalization\n",
    "from keras import backend\n",
    "from keras.callbacks import ModelCheckpoint\n",
    "from numpy import unique, ndarray, mean, std\n",
    "from matplotlib import pyplot as plt\n",
    "from pandas import read_pickle\n",
    "import numpy as np \n",
    "from sklearn.metrics import confusion_matrix\n",
    "from matplotlib import pyplot as plt\n",
    "import itertools"
   ]
  },
  {
   "cell_type": "code",
   "execution_count": 2,
   "metadata": {},
   "outputs": [],
   "source": [
    "# batch_size = 100\n",
    "# epochs = 20\n",
    "vector_encoding = True\n",
    "img_height, img_width = 48, 48"
   ]
  },
  {
   "cell_type": "code",
   "execution_count": 3,
   "metadata": {},
   "outputs": [],
   "source": [
    "filepath = \"adam-data-aug.h5\"\n",
    "model = load_model(filepath)"
   ]
  },
  {
   "cell_type": "code",
   "execution_count": 4,
   "metadata": {},
   "outputs": [],
   "source": [
    "def normalize(x):\n",
    "    x = x - mean(x, axis = 1).reshape((-1,1))\n",
    "    x = (x - mean(x, axis = 0)) / std(x, axis = 0)\n",
    "    return x"
   ]
  },
  {
   "cell_type": "code",
   "execution_count": 5,
   "metadata": {},
   "outputs": [],
   "source": [
    "data = read_pickle('dataset/input_data')\n",
    "\n",
    "train = data.Training\n",
    "validate = data.Validation\n",
    "test = data.Testing\n",
    "\n",
    "x_train, y_train = train\n",
    "x_validate, y_validate = validate\n",
    "x_test, y_test = test\n",
    "\n",
    "x_train = normalize(x_train)\n",
    "x_validate = normalize(x_validate)\n",
    "x_test = normalize(x_test)\n",
    "\n",
    "num_train_samples = x_train.shape[0]\n",
    "num_validate_samples = x_validate.shape[0]\n",
    "num_test_samples = x_test.shape[0]\n",
    "num_labels = unique(y_train).shape[0]\n",
    "if(vector_encoding):\n",
    "    y_train = keras.utils.to_categorical(y_train, num_labels)\n",
    "    y_validate = keras.utils.to_categorical(y_validate, num_labels)\n",
    "    y_test = keras.utils.to_categorical(y_test, num_labels)\n",
    "    \n",
    "if backend.image_data_format() == 'channels_first':\n",
    "    x_train = x_train.reshape(num_train_samples, 1, img_height, img_width)\n",
    "    x_validate = x_validate.reshape(num_validate_samples, 1, img_height, img_width)\n",
    "    x_test = x_test.reshape(num_test_samples, 1, img_height, img_width)\n",
    "    input_shape = (1, img_height, img_width)\n",
    "else:\n",
    "    x_train = x_train.reshape(num_train_samples, img_height, img_width, 1)\n",
    "    x_validate = x_validate.reshape(num_validate_samples, img_height, img_width, 1)\n",
    "    x_test = x_test.reshape(num_test_samples, img_height, img_width, 1)\n",
    "    input_shape = (img_height, img_width, 1)"
   ]
  },
  {
   "cell_type": "code",
   "execution_count": 6,
   "metadata": {
    "scrolled": true
   },
   "outputs": [],
   "source": [
    "# model.summary()"
   ]
  },
  {
   "cell_type": "code",
   "execution_count": 7,
   "metadata": {},
   "outputs": [],
   "source": [
    "# Source - from the library's website\n",
    "def plot_confusion_matrix(cm, classes,\n",
    "                          normalize=False,\n",
    "                          title='Confusion matrix',\n",
    "                          cmap=plt.cm.Blues):\n",
    "    \"\"\"\n",
    "    This function prints and plots the confusion matrix.\n",
    "    Normalization can be applied by setting `normalize=True`.\n",
    "    \"\"\"\n",
    "    if normalize:\n",
    "        cm = cm.astype('float') / cm.sum(axis=1)[:, np.newaxis]\n",
    "        print(\"Normalized confusion matrix\")\n",
    "    else:\n",
    "        print('Confusion matrix, without normalization')\n",
    "\n",
    "    print(cm)\n",
    "\n",
    "    plt.imshow(cm, interpolation='nearest', cmap=cmap)\n",
    "    plt.title(title)\n",
    "    plt.colorbar()\n",
    "    tick_marks = np.arange(len(classes))\n",
    "    plt.xticks(tick_marks, classes, rotation=45)\n",
    "    plt.yticks(tick_marks, classes)\n",
    "\n",
    "    fmt = '.2f' if normalize else 'd'\n",
    "    thresh = cm.max() / 2.\n",
    "    for i, j in itertools.product(range(cm.shape[0]), range(cm.shape[1])):\n",
    "        plt.text(j, i, format(cm[i, j], fmt),\n",
    "                 horizontalalignment=\"center\",\n",
    "                 color=\"white\" if cm[i, j] > thresh else \"black\")\n",
    "\n",
    "    plt.tight_layout()\n",
    "    plt.ylabel('True label')\n",
    "    plt.xlabel('Predicted label')\n"
   ]
  },
  {
   "cell_type": "code",
   "execution_count": 8,
   "metadata": {},
   "outputs": [],
   "source": [
    "y_pred = model.predict(x_test)"
   ]
  },
  {
   "cell_type": "code",
   "execution_count": null,
   "metadata": {
    "scrolled": true
   },
   "outputs": [],
   "source": [
    "model.evaluate(x_test, y_test, verbose=1)"
   ]
  },
  {
   "cell_type": "code",
   "execution_count": 10,
   "metadata": {},
   "outputs": [],
   "source": [
    "y_actual_cnf = np.argmax(y_test,axis=1)\n",
    "y_pred_cnf = np.argmax(y_pred,axis=1)"
   ]
  },
  {
   "cell_type": "code",
   "execution_count": 11,
   "metadata": {},
   "outputs": [],
   "source": [
    "cnf_matrix = confusion_matrix(y_actual_cnf,y_pred_cnf)"
   ]
  },
  {
   "cell_type": "code",
   "execution_count": null,
   "metadata": {
    "scrolled": true
   },
   "outputs": [],
   "source": [
    "class_names = ['Angry', 'Disgust', 'Fear', 'Happy', 'Sad', 'Surprise', 'Neutral']\n",
    "plt.figure()\n",
    "plot_confusion_matrix(cnf_matrix, classes=class_names,\n",
    "                      title='Confusion matrix with Data Augmentation')"
   ]
  },
  {
   "cell_type": "code",
   "execution_count": null,
   "metadata": {},
   "outputs": [],
   "source": []
  }
 ],
 "metadata": {
  "kernelspec": {
   "display_name": "Python 3",
   "language": "python",
   "name": "python3"
  },
  "language_info": {
   "codemirror_mode": {
    "name": "ipython",
    "version": 3
   },
   "file_extension": ".py",
   "mimetype": "text/x-python",
   "name": "python",
   "nbconvert_exporter": "python",
   "pygments_lexer": "ipython3",
   "version": "3.5.4"
  }
 },
 "nbformat": 4,
 "nbformat_minor": 2
}
